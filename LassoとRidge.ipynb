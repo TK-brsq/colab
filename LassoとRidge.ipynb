{
  "nbformat": 4,
  "nbformat_minor": 0,
  "metadata": {
    "colab": {
      "provenance": [],
      "authorship_tag": "ABX9TyNoGpwErKTkEjrY2vasgqjo",
      "include_colab_link": true
    },
    "kernelspec": {
      "name": "python3",
      "display_name": "Python 3"
    },
    "language_info": {
      "name": "python"
    }
  },
  "cells": [
    {
      "cell_type": "markdown",
      "metadata": {
        "id": "view-in-github",
        "colab_type": "text"
      },
      "source": [
        "<a href=\"https://colab.research.google.com/github/TKph/colab/blob/main/Lasso%E3%81%A8Ridge.ipynb\" target=\"_parent\"><img src=\"https://colab.research.google.com/assets/colab-badge.svg\" alt=\"Open In Colab\"/></a>"
      ]
    },
    {
      "cell_type": "markdown",
      "source": [
        "\n",
        "\n",
        "---\n",
        "# Ridge(L2正則化)\n",
        "\n",
        "\n",
        "---\n",
        "\n"
      ],
      "metadata": {
        "id": "6nvcFF49LuNY"
      }
    },
    {
      "cell_type": "code",
      "execution_count": null,
      "metadata": {
        "id": "Zzikphm8Gcs8"
      },
      "outputs": [],
      "source": [
        "!pip install mglearn\n",
        "\n",
        "from sklearn.model_selection import train_test_split\n",
        "from mglearn.datasets import load_extended_boston\n",
        "import numpy as np\n",
        "\n",
        "X, y = load_extended_boston()\n",
        "\n",
        "X_train, X_test, y_train, y_test = train_test_split(X, y, random_state = 0)\n",
        "\n",
        "import matplotlib.pyplot as plt\n",
        "from sklearn import linear_model\n",
        "plt.style.use('seaborn-darkgrid')"
      ]
    },
    {
      "cell_type": "code",
      "source": [
        "ridge = linear_model.Ridge(alpha = 1.0, random_state = 0) #リッジの適用, alphaの説明は後に\n",
        "ridge.fit(X_train, y_train)\n",
        "\n",
        "print(f'intercept: {ridge.intercept_:.2f}')\n",
        "print(f'coef: {ridge.coef_[:4]}')\n",
        "\n",
        "print(f'Train score: {ridge.score(X_train, y_train):.2f}')\n",
        "print(f'Test score: {ridge.score(X_test, y_test):.2f}')"
      ],
      "metadata": {
        "colab": {
          "base_uri": "https://localhost:8080/"
        },
        "id": "TawxgwB0I2TT",
        "outputId": "59834732-eb04-4597-f30f-57de25de6cd1"
      },
      "execution_count": 3,
      "outputs": [
        {
          "output_type": "stream",
          "name": "stdout",
          "text": [
            "intercept: 21.39\n",
            "coef: [-1.41368408 -1.55661895 -1.46543409 -0.12661607]\n",
            "Train score: 0.89\n",
            "Test score: 0.75\n"
          ]
        }
      ]
    },
    {
      "cell_type": "markdown",
      "source": [
        "\n",
        "\n",
        "---\n",
        "\n",
        "# Lasso(L1正則化)\n",
        "\n",
        "---\n",
        "\n"
      ],
      "metadata": {
        "id": "HO48ejvZL26Y"
      }
    },
    {
      "cell_type": "code",
      "source": [
        "lasso = linear_model.Lasso(alpha = 0.01, max_iter = 2000, random_state = 0) #alphaとiterの説明は後に\n",
        "lasso.fit(X_train, y_train)\n",
        "\n",
        "print(f'Number of nonzero parameters: {np.count_nonzero(lasso.coef_)}') #値が0以外の重みを表示\n",
        "\n",
        "print(f'Train score: {lasso.score(X_train, y_train):.2f}')\n",
        "print(f'Test_score: {lasso.score(X_test, y_test):.2f}')"
      ],
      "metadata": {
        "colab": {
          "base_uri": "https://localhost:8080/"
        },
        "id": "NFceryTAMATh",
        "outputId": "cc632a58-e1cb-43b1-944f-29a935b89615"
      },
      "execution_count": 5,
      "outputs": [
        {
          "output_type": "stream",
          "name": "stdout",
          "text": [
            "Number of nonzero parameters: 33\n",
            "Train score: 0.90\n",
            "Test_score: 0.77\n"
          ]
        }
      ]
    },
    {
      "cell_type": "markdown",
      "source": [
        "Ridgeモデルのアルゴリズムは誤差二乗和を改良して\n",
        "\n",
        "E(w) = 1/2*Σ(y-y')² + a||w||²\n",
        "\n",
        "\n",
        "||w|| = w0² + w1² + ... + wn²\n",
        "\n",
        "を最小化する. これによって重みwが大きくならないようにする.このときのwの成分は0にならない.\n",
        "\n",
        "Lassoモデルは\n",
        "\n",
        "||w|| = |w0| + |w1| + .. + |wn|\n",
        "\n",
        "このときのwはRidgeと違て0になる成分がある. つまりアルゴリズムな中に重要な特徴量を選別する機能がある. 黄色読めばメカニズムが分かる.\n",
        "\n",
        "alphaはハイパーパラメータと呼び人間が決める. その決め方はデータを分けるときに検証データもつくり, そこでいろいろなalphaを試す.\n",
        "\n",
        "RidgeとLassoを合わせたElastic Netというモデルもある."
      ],
      "metadata": {
        "id": "8oPI6wvcfziN"
      }
    }
  ]
}