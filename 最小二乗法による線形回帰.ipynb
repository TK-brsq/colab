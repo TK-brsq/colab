{
  "nbformat": 4,
  "nbformat_minor": 0,
  "metadata": {
    "colab": {
      "provenance": [],
      "authorship_tag": "ABX9TyNklFpFZdwFOrrwPH8VYakJ",
      "include_colab_link": true
    },
    "kernelspec": {
      "name": "python3",
      "display_name": "Python 3"
    },
    "language_info": {
      "name": "python"
    }
  },
  "cells": [
    {
      "cell_type": "markdown",
      "metadata": {
        "id": "view-in-github",
        "colab_type": "text"
      },
      "source": [
        "<a href=\"https://colab.research.google.com/github/TKph/colab/blob/main/%E6%9C%80%E5%B0%8F%E4%BA%8C%E4%B9%97%E6%B3%95%E3%81%AB%E3%82%88%E3%82%8B%E7%B7%9A%E5%BD%A2%E5%9B%9E%E5%B8%B0.ipynb\" target=\"_parent\"><img src=\"https://colab.research.google.com/assets/colab-badge.svg\" alt=\"Open In Colab\"/></a>"
      ]
    },
    {
      "cell_type": "code",
      "execution_count": null,
      "metadata": {
        "id": "7JCM8XMn-UXl"
      },
      "outputs": [],
      "source": [
        "!pip install mglearn\n",
        "\n",
        "\n",
        "\n",
        "from sklearn.model_selection import train_test_split  #訓練データとテストデータに分割するメソッド\n",
        "from mglearn.datasets import load_extended_boston #今回使うデータ\n",
        "\n",
        "X,y = load_extended_boston()  #Xは行列だから大文字?\n",
        "X_train, X_test, y_train, y_test = train_test_split(X, y, random_state = 0) \n",
        "#75%をtrain, 25%をtestに分割. test_size引数を設定することで変更可能\n",
        "#random_state = 0をすることによって乱数を固定できる. 再現性を意識しろ\n",
        "\n",
        "\n",
        "\n",
        "from matplotlib.axis import XTick\n",
        "import matplotlib.pyplot as plt\n",
        "from sklearn import linear_model\n",
        "plt.style.use('seaborn-darkgrid')\n",
        "\n",
        "X_train_single = X_train[:,5].reshape(-1,1) #スライスみたいなのなに？\n",
        "X_test_single = X_test[:,5].reshape(-1,1)"
      ]
    },
    {
      "cell_type": "code",
      "source": [],
      "metadata": {
        "id": "EgKG1L1f-iPq"
      },
      "execution_count": null,
      "outputs": []
    }
  ]
}